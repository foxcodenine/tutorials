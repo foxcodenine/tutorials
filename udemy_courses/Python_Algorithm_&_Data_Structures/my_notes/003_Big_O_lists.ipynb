{
 "cells": [
  {
   "cell_type": "code",
   "execution_count": 1,
   "metadata": {},
   "outputs": [
    {
     "name": "stdout",
     "output_type": "stream",
     "text": [
      "0.004019757000000013\n"
     ]
    }
   ],
   "source": [
    "from timeit import timeit\n",
    "\n",
    "def test():\n",
    "    lst = []\n",
    "    for n in range(100):\n",
    "        lst = lst + [n]   \n",
    "    \n",
    "    \n",
    "\n",
    "print(timeit(stmt=\"test()\", setup=\"from __main__ import test\", number=100))\n",
    "\n"
   ]
  },
  {
   "cell_type": "code",
   "execution_count": 2,
   "metadata": {},
   "outputs": [],
   "source": [
    "def method1():\n",
    "    l = []\n",
    "    for n in range(1000):\n",
    "        l = l + [n]\n",
    "        \n",
    "        \n",
    "def method2():\n",
    "    l = []\n",
    "    for n in range(1000):\n",
    "        l.append(n)\n",
    "        \n",
    "        \n",
    "def method3():\n",
    "    l = [n for n in range(1000)]\n",
    "    \n",
    "def method4():\n",
    "    l = list(range(1000))"
   ]
  },
  {
   "cell_type": "code",
   "execution_count": 3,
   "metadata": {
    "scrolled": true
   },
   "outputs": [
    {
     "name": "stdout",
     "output_type": "stream",
     "text": [
      "1.13 ms ± 51.3 µs per loop (mean ± std. dev. of 7 runs, 1000 loops each)\n",
      "113 µs ± 503 ns per loop (mean ± std. dev. of 7 runs, 10000 loops each)\n",
      "35.8 µs ± 445 ns per loop (mean ± std. dev. of 7 runs, 10000 loops each)\n",
      "17.7 µs ± 54.3 ns per loop (mean ± std. dev. of 7 runs, 100000 loops each)\n"
     ]
    }
   ],
   "source": [
    "%timeit method1()\n",
    "%timeit method2()\n",
    "%timeit method3()\n",
    "%timeit method4()"
   ]
  },
  {
   "cell_type": "markdown",
   "metadata": {},
   "source": [
    "#### From the above we can see that the build-in Python functions are the most effective method."
   ]
  }
 ],
 "metadata": {
  "kernelspec": {
   "display_name": "Python 3",
   "language": "python",
   "name": "python3"
  },
  "language_info": {
   "codemirror_mode": {
    "name": "ipython",
    "version": 3
   },
   "file_extension": ".py",
   "mimetype": "text/x-python",
   "name": "python",
   "nbconvert_exporter": "python",
   "pygments_lexer": "ipython3",
   "version": "3.7.3"
  }
 },
 "nbformat": 4,
 "nbformat_minor": 4
}
