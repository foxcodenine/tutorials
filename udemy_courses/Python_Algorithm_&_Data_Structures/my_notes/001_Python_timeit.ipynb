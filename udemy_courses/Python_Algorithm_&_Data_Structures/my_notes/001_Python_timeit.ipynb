{
 "cells": [
  {
   "cell_type": "markdown",
   "metadata": {},
   "source": [
    "# Python - timeit\n",
    "\n",
    "timeit runs your snippet of code millions of time (default value is 1000000) so that you get the statistically most relevant measurement of code execution time!\n",
    "\n",
    "timeit is pretty simple to use and has a command line interface as well as a callable one.\n",
    "\n",
    "### timeit.timeit(stmt, setup, timer, number) \n",
    "\n",
    "#### stmt which is the statement you want to measure; it defaults to ‘pass’.\n",
    "#### setup which is the code that you run before running the stmt; defaults  ‘pass’.\n",
    "We generally use this to import the required modules for our code.\n",
    "#### timer which is a timeit.Timer object; it usually has a sensible default value\n",
    "#### number which is the number of executions you’d like to run the stmt.\n"
   ]
  },
  {
   "cell_type": "code",
   "execution_count": 1,
   "metadata": {},
   "outputs": [
    {
     "data": {
      "text/plain": [
       "1.841800000002003e-05"
      ]
     },
     "execution_count": 1,
     "metadata": {},
     "output_type": "execute_result"
    }
   ],
   "source": [
    "from timeit import timeit\n",
    "\n",
    "mysetup = \"from math import sqrt\"\n",
    "mycode = \"\"\"sqrt(9)\"\"\"\n",
    "\n",
    "timeit(setup=mysetup, stmt=mycode, number=100)"
   ]
  },
  {
   "cell_type": "code",
   "execution_count": 2,
   "metadata": {},
   "outputs": [],
   "source": [
    "def sum1(number):\n",
    "    total = 0\n",
    "    for n in range(number + 1):\n",
    "        total += n\n",
    "    return total\n",
    "\n",
    "def sum2(number):\n",
    "    return (number*(number+1))/2"
   ]
  },
  {
   "cell_type": "code",
   "execution_count": 3,
   "metadata": {},
   "outputs": [
    {
     "data": {
      "text/plain": [
       "1.130604966"
      ]
     },
     "execution_count": 3,
     "metadata": {},
     "output_type": "execute_result"
    }
   ],
   "source": [
    "mycode = \"\"\"sum1(100000)\"\"\"\n",
    "mysetup = \"from __main__ import sum1\"\n",
    "timeit(setup=mysetup, stmt=mycode, number=100)"
   ]
  },
  {
   "cell_type": "code",
   "execution_count": 4,
   "metadata": {},
   "outputs": [
    {
     "data": {
      "text/plain": [
       "3.361999999995646e-05"
      ]
     },
     "execution_count": 4,
     "metadata": {},
     "output_type": "execute_result"
    }
   ],
   "source": [
    "mycode = \"\"\"sum2(100000)\"\"\"\n",
    "mysetup = \"from __main__ import sum2\"\n",
    "timeit(setup=mysetup, stmt=mycode, number=100)"
   ]
  },
  {
   "cell_type": "markdown",
   "metadata": {},
   "source": [
    "#### You can also do this. By using some build in magic commands in Jupyter Notebook"
   ]
  },
  {
   "cell_type": "code",
   "execution_count": 5,
   "metadata": {},
   "outputs": [
    {
     "name": "stdout",
     "output_type": "stream",
     "text": [
      "318 ns ± 0.937 ns per loop (mean ± std. dev. of 7 runs, 1000000 loops each)\n"
     ]
    }
   ],
   "source": [
    "%timeit sum2(100000)"
   ]
  },
  {
   "cell_type": "code",
   "execution_count": 6,
   "metadata": {},
   "outputs": [
    {
     "name": "stdout",
     "output_type": "stream",
     "text": [
      "11.1 ms ± 26.7 µs per loop (mean ± std. dev. of 7 runs, 100 loops each)\n"
     ]
    }
   ],
   "source": [
    "%timeit sum1(100000)"
   ]
  },
  {
   "cell_type": "code",
   "execution_count": null,
   "metadata": {},
   "outputs": [],
   "source": []
  }
 ],
 "metadata": {
  "kernelspec": {
   "display_name": "Python 3",
   "language": "python",
   "name": "python3"
  },
  "language_info": {
   "codemirror_mode": {
    "name": "ipython",
    "version": 3
   },
   "file_extension": ".py",
   "mimetype": "text/x-python",
   "name": "python",
   "nbconvert_exporter": "python",
   "pygments_lexer": "ipython3",
   "version": "3.7.3"
  }
 },
 "nbformat": 4,
 "nbformat_minor": 4
}
